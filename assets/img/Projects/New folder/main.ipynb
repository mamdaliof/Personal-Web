{
 "cells": [
  {
   "cell_type": "code",
   "execution_count": 2,
   "metadata": {},
   "outputs": [
    {
     "name": "stdout",
     "output_type": "stream",
     "text": [
      "All images have been resized to a height of 400 pixels.\n"
     ]
    }
   ],
   "source": [
    "import os\n",
    "from PIL import Image\n",
    "\n",
    "def resize_images_to_fixed_height(image_folder, fixed_height):\n",
    "    for filename in os.listdir(image_folder):\n",
    "        if filename.endswith(('.png', '.jpg', '.jpeg', '.bmp', '.gif')):\n",
    "            img_path = os.path.join(image_folder, filename)\n",
    "            with Image.open(img_path) as img:\n",
    "                width, height = img.size\n",
    "                # Calculate the new width while maintaining the aspect ratio\n",
    "                new_width = int((fixed_height / height) * width)\n",
    "                resized_img = img.resize((new_width, fixed_height), Image.LANCZOS)\n",
    "                # Overwrite the original image with the resized version\n",
    "                resized_img.save(img_path)\n",
    "\n",
    "# Specify the path to the folder containing your images\n",
    "image_folder = './'\n",
    "\n",
    "# Set the desired height for all images\n",
    "fixed_height = 200\n",
    "\n",
    "# Resize all images to the fixed height\n",
    "resize_images_to_fixed_height(image_folder, fixed_height)\n",
    "print(\"All images have been resized to a height of 400 pixels.\")\n"
   ]
  },
  {
   "cell_type": "code",
   "execution_count": null,
   "metadata": {},
   "outputs": [],
   "source": []
  }
 ],
 "metadata": {
  "kernelspec": {
   "display_name": "ML",
   "language": "python",
   "name": "python3"
  },
  "language_info": {
   "codemirror_mode": {
    "name": "ipython",
    "version": 3
   },
   "file_extension": ".py",
   "mimetype": "text/x-python",
   "name": "python",
   "nbconvert_exporter": "python",
   "pygments_lexer": "ipython3",
   "version": "3.9.16"
  }
 },
 "nbformat": 4,
 "nbformat_minor": 2
}
