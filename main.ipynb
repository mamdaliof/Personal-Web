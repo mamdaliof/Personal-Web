{
 "cells": [
  {
   "cell_type": "code",
   "execution_count": 1,
   "metadata": {},
   "outputs": [],
   "source": [
    "from PIL import Image\n",
    "\n",
    "# Open the WEBP image\n",
    "input_image = Image.open('assets\\img\\Mohamamd icon.webp')\n",
    "\n",
    "# Convert and save as PNG\n",
    "output_image = input_image.convert(\"RGBA\")  # Ensure transparency is preserved\n",
    "output_image.save('assets\\img\\Mohamamd icon.png', 'PNG')\n"
   ]
  }
 ],
 "metadata": {
  "kernelspec": {
   "display_name": "ML",
   "language": "python",
   "name": "python3"
  },
  "language_info": {
   "codemirror_mode": {
    "name": "ipython",
    "version": 3
   },
   "file_extension": ".py",
   "mimetype": "text/x-python",
   "name": "python",
   "nbconvert_exporter": "python",
   "pygments_lexer": "ipython3",
   "version": "3.9.16"
  }
 },
 "nbformat": 4,
 "nbformat_minor": 2
}
